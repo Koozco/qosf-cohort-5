{
 "cells": [
  {
   "cell_type": "markdown",
   "id": "9d9e2740-160d-4e41-b93e-c40a29b7ddca",
   "metadata": {},
   "source": [
    "# Cohort 5 Screening\n",
    "\n",
    "Bartosz Kusek\n",
    "\n",
    "## Task 3\n",
    "For this problem you have the following situation: you are playing a game of tic-tac-toe, and you find the situation in the figure below, next is your turn, develop a quantum algorithm to be able to find the best decisions with higher probability.\n",
    "\n",
    "```\n",
    "X | O | O\n",
    "X |   | \n",
    "O |   | \n",
    "```\n",
    "\n",
    "The following considerations apply:\n",
    "You are the X's.\n",
    "The matrix as a qubit and the state of the X's is $|1>$ and of the O's is $|0>$, of the empty cells an unknown state.\n",
    "What are the valid combinations to win?\n",
    "You have at most 2 turns\n",
    "\n",
    "## Solution\n",
    " As the hint states, there is a finite set of winning combinations. Given the initial state of the board, we can quickly find 2 complements granting the win for the \"X\" player. This optimize the number of qbits required by the oracle - the other way would be to implement checks for all 8 winning combinations and counters for \"X\" and \"O\" characters being intermediate results of the oracle.\n",
    "\n",
    "The idea behind the solution is to initialize quantum state representing all possible final states of the board (disregarding the rules, i.e. even four \"X\"s) and use Grover Search algorithm to find the winning combination."
   ]
  },
  {
   "cell_type": "markdown",
   "id": "aba4e8b4-4fc1-4b12-a39b-54ee7379e714",
   "metadata": {},
   "source": [
    "### Preliminaries\n",
    "\n",
    "Now I include all required dependencies and define helpers that I find useful."
   ]
  },
  {
   "cell_type": "code",
   "execution_count": 1,
   "id": "b1904443-6c4c-4894-bfc0-f0d556aaa4d2",
   "metadata": {},
   "outputs": [],
   "source": [
    "from qiskit import QuantumRegister, ClassicalRegister, QuantumCircuit, Aer, transpile, assemble\n",
    "from qiskit.visualization import plot_histogram\n",
    "\n",
    "import numpy as np"
   ]
  },
  {
   "cell_type": "markdown",
   "id": "fea70813-0ebd-496b-b2b2-d3efd58e016e",
   "metadata": {},
   "source": [
    "I'll use Aer to benchmark obtained results."
   ]
  },
  {
   "cell_type": "code",
   "execution_count": 2,
   "id": "efbb04b9-6634-4954-9aed-39d0b30b51df",
   "metadata": {},
   "outputs": [],
   "source": [
    "# backend we will use\n",
    "aer_simulator = Aer.get_backend('aer_simulator')\n",
    "\n",
    "# gets the result for given circuit from aer simulator\n",
    "def run_on_aer(circ):\n",
    "    transpiled_qc = transpile(circ, aer_simulator)\n",
    "    qobj = assemble(transpiled_qc)\n",
    "    result = aer_simulator.run(qobj).result()\n",
    "    return result\n",
    "\n",
    "# plots probabilities of all states\n",
    "def plot_aer_counts(aer_result):\n",
    "    return plot_histogram(aer_result.get_counts())"
   ]
  },
  {
   "cell_type": "markdown",
   "id": "08d36ba9-59a1-4f26-923e-a63d000be515",
   "metadata": {},
   "source": [
    "List of sub-boards we will look for. I denote \"X\" as 1 and \"O\" as 0."
   ]
  },
  {
   "cell_type": "code",
   "execution_count": 3,
   "id": "cd09b56a-1900-4be4-85d6-760f295742e1",
   "metadata": {},
   "outputs": [
    {
     "data": {
      "text/plain": [
       "[array([[1, 1],\n",
       "        [0, 0]]),\n",
       " array([[1, 0],\n",
       "        [0, 1]])]"
      ]
     },
     "execution_count": 3,
     "metadata": {},
     "output_type": "execute_result"
    }
   ],
   "source": [
    "winning_boards = list(map(np.array, [[\n",
    "    [1, 1],\n",
    "    [0, 0]\n",
    "], [\n",
    "    [1, 0],\n",
    "    [0, 1]\n",
    "]]))\n",
    "\n",
    "winning_boards"
   ]
  },
  {
   "cell_type": "markdown",
   "id": "88c69f15-9fcb-426d-ad4b-a5edb0469ab8",
   "metadata": {},
   "source": [
    "Let N be the number of blank fileds on the board."
   ]
  },
  {
   "cell_type": "code",
   "execution_count": 4,
   "id": "9643be4a-99a3-4bb0-9ee4-b0173c933597",
   "metadata": {},
   "outputs": [],
   "source": [
    "# class encapsulating the cirucit. It allows convenient access to individual registers\n",
    "class TicTacToe:\n",
    "    def __init__(self, N=4):\n",
    "        self.N = N\n",
    "        self.board_reg = QuantumRegister(N, 'q')\n",
    "        self.oracle_reg = QuantumRegister(1, 'o')\n",
    "        self.measurements = ClassicalRegister(N, 'r')\n",
    "        self.circ = QuantumCircuit(self.board_reg, self.oracle_reg, self.measurements)"
   ]
  },
  {
   "cell_type": "code",
   "execution_count": 5,
   "id": "c9e27fab-f1d7-4151-883d-84121a52dd0d",
   "metadata": {},
   "outputs": [],
   "source": [
    "# applies measure gates on address register   \n",
    "def measure(tictac):\n",
    "    for i in range(tictac.N):\n",
    "        tictac.circ.measure(tictac.board_reg[i], i)"
   ]
  },
  {
   "cell_type": "markdown",
   "id": "05f1bc33-6be4-4535-970d-38e31e80d52d",
   "metadata": {},
   "source": [
    "## Grover Search\n",
    "Let's proceed with the elements needed to run the search algorithm.\n",
    "\n",
    "### 1. Oracle\n",
    "We need oracle which identifies two winning states. It may use only 1 qbit for the output, as both states are mutually exclusive. Oracle checks all 4 qbits with multi controlled X gate."
   ]
  },
  {
   "cell_type": "code",
   "execution_count": 6,
   "id": "ab7276da-3132-4079-a617-1d5a0ff43f3c",
   "metadata": {},
   "outputs": [
    {
     "data": {
      "text/plain": [
       "[array([1, 1, 0, 0]), array([1, 0, 0, 1])]"
      ]
     },
     "execution_count": 6,
     "metadata": {},
     "output_type": "execute_result"
    }
   ],
   "source": [
    "# (2,2) boards flatten to (4) for easier access\n",
    "boards_flatten = [board.reshape(4) for board in winning_boards]\n",
    "boards_flatten"
   ]
  },
  {
   "cell_type": "code",
   "execution_count": 7,
   "id": "e887eaeb-6a96-4f2c-a0e6-61be637ca4e6",
   "metadata": {},
   "outputs": [],
   "source": [
    "# build oracle on tictac cirle. The oracle finds subboards from desired list\n",
    "def build_oracle(tictac, desired):\n",
    "    for board in desired:\n",
    "        for (i, v) in enumerate(board):\n",
    "            if v == 0:\n",
    "                tictac.circ.x(tictac.board_reg[i])\n",
    "            \n",
    "        tictac.circ.mcx(tictac.board_reg, tictac.oracle_reg)\n",
    "        \n",
    "        for (i, v) in enumerate(board):\n",
    "            if v == 0:\n",
    "                tictac.circ.x(tictac.board_reg[i])"
   ]
  },
  {
   "cell_type": "markdown",
   "id": "4c0c3b66-57ef-41ce-b1fa-1cf47d010358",
   "metadata": {},
   "source": [
    "### 2. Diffuser\n",
    "The diffuser is implemented as described in the literature (for simplest instruction see [qiskit textbook](https://qiskit.org/textbook/ch-algorithms/grover.html))."
   ]
  },
  {
   "cell_type": "code",
   "execution_count": 8,
   "id": "164d6147-55e5-4e94-916b-86cf553ae6e9",
   "metadata": {},
   "outputs": [],
   "source": [
    "# build diffuser on the tictac circuit\n",
    "def build_diffuser(tictac):\n",
    "    for i in range(tictac.N):\n",
    "        tictac.circ.h(tictac.board_reg[i])\n",
    "\n",
    "    for i in range(tictac.N):\n",
    "        tictac.circ.x(tictac.board_reg[i])\n",
    "\n",
    "    tictac.circ.h(tictac.board_reg[tictac.N-1])\n",
    "    tictac.circ.mcx(tictac.board_reg[:tictac.N-1], tictac.board_reg[tictac.N-1])\n",
    "    tictac.circ.h(tictac.board_reg[tictac.N-1])\n",
    "    \n",
    "    for i in range(tictac.N):\n",
    "        tictac.circ.x(tictac.board_reg[i])\n",
    "        \n",
    "    for i in range(tictac.N):\n",
    "        tictac.circ.h(tictac.board_reg[i])\n",
    "        \n",
    "    tictac.circ.barrier()"
   ]
  },
  {
   "cell_type": "markdown",
   "id": "2fd8e5b4-e35c-499a-8c56-18910e8061e0",
   "metadata": {},
   "source": [
    "### 3. Circuit Initialization\n",
    "\n",
    "We initialize the address register as the superposition of all addresses and the Oracle output as `|->`."
   ]
  },
  {
   "cell_type": "code",
   "execution_count": 9,
   "id": "00f1c77d-ffb6-4034-83e5-a130ef5dfd34",
   "metadata": {},
   "outputs": [],
   "source": [
    "# initializes circuit for the Grover algorithm\n",
    "def initialize_circ(tictac):\n",
    "    for i in range(tictac.N):\n",
    "        tictac.circ.h(tictac.board_reg[i])\n",
    "\n",
    "    tictac.circ.initialize([1, -1]/np.sqrt(2), tictac.oracle_reg)\n",
    "    tictac.circ.barrier()"
   ]
  },
  {
   "cell_type": "markdown",
   "id": "2bfa6c5c-74b1-4f9b-9048-8d6f10e13cd0",
   "metadata": {},
   "source": [
    "### 4. Grover's Iteration\n",
    "Now we have all components to compose a single iteration of the algorithm."
   ]
  },
  {
   "cell_type": "code",
   "execution_count": 10,
   "id": "d1b850ad-4a66-4883-a38f-3bbf53ce3ff6",
   "metadata": {},
   "outputs": [],
   "source": [
    "# builts single Grover's iteration on qram circuit\n",
    "def add_iteration(tictac, boards):\n",
    "    build_oracle(tictac, boards)\n",
    "    build_diffuser(tictac)\n",
    "    return tictac"
   ]
  },
  {
   "cell_type": "markdown",
   "id": "36d8770c-dc2a-4a8d-90e3-ecc343a7731e",
   "metadata": {},
   "source": [
    "### Solution\n",
    "Here we wrap all introduced components and make a method running Grover's search on Aer simulator. Finding optimal number of iterations requires us to know $k$, the number of states we are looking for. We know it, however, in case of unkown $k$, we may find it experimentaly."
   ]
  },
  {
   "cell_type": "code",
   "execution_count": 11,
   "id": "91e2d667-b636-4c34-8eeb-f285c5f2c7e1",
   "metadata": {},
   "outputs": [],
   "source": [
    "# returns the number of iterations to get a near-optimal measurement for search space of size N\n",
    "# while looking for k entries\n",
    "def goal_iterations(N, k):\n",
    "    return int(np.floor(np.pi/4*np.sqrt(N/k)))"
   ]
  },
  {
   "cell_type": "code",
   "execution_count": 12,
   "id": "27072bbd-e6c6-4540-b8be-ee2d42cc210e",
   "metadata": {},
   "outputs": [],
   "source": [
    "def solution(tictac, boards):\n",
    "    initialize_circ(tictac)\n",
    "\n",
    "    for i in range(goal_iterations(2**tictac.N, len(boards))):\n",
    "        add_iteration(tictac, boards)\n",
    "    \n",
    "    measure(tictac)\n",
    "    res = run_on_aer(tictac.circ)\n",
    "    return res"
   ]
  },
  {
   "cell_type": "code",
   "execution_count": 13,
   "id": "19cd5106-8a25-4e08-8513-b63188db041a",
   "metadata": {},
   "outputs": [
    {
     "name": "stdout",
     "output_type": "stream",
     "text": [
      "{'1000': 5, '0001': 4, '1110': 6, '1010': 6, '1111': 2, '1101': 3, '0110': 6, '0100': 5, '1001': 511, '0111': 1, '0011': 446, '0000': 5, '0010': 6, '1100': 3, '0101': 6, '1011': 9}\n"
     ]
    },
    {
     "data": {
      "image/png": "[encoded data removed]",
      "text/plain": [
       "<Figure size 504x360 with 1 Axes>"
      ]
     },
     "execution_count": 13,
     "metadata": {},
     "output_type": "execute_result"
    }
   ],
   "source": [
    "tictac = TicTacToe()\n",
    "res = solution(tictac, boards_flatten)\n",
    "\n",
    "print(res.get_counts())\n",
    "plot_aer_counts(res)"
   ]
  },
  {
   "cell_type": "markdown",
   "id": "3ea1b405-77a1-4178-b97f-559413024148",
   "metadata": {},
   "source": [
    "As shown on the plot, Grover Algorithm did great, since there were 2 states out of 16 we were looking for. Greater number of winning states could decrease the probability of finding winning state."
   ]
  }
 ],
 "metadata": {
  "kernelspec": {
   "display_name": "Python 3 (ipykernel)",
   "language": "python",
   "name": "python3"
  },
  "language_info": {
   "codemirror_mode": {
    "name": "ipython",
    "version": 3
   },
   "file_extension": ".py",
   "mimetype": "text/x-python",
   "name": "python",
   "nbconvert_exporter": "python",
   "pygments_lexer": "ipython3",
   "version": "3.9.10"
  }
 },
 "nbformat": 4,
 "nbformat_minor": 5
}
